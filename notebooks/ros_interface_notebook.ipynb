{
 "cells": [
  {
   "cell_type": "code",
   "execution_count": 8,
   "id": "138a2747",
   "metadata": {
    "scrolled": true
   },
   "outputs": [
    {
     "data": {
      "application/vnd.jupyter.widget-view+json": {
       "model_id": "aab681fd9d414e90ab2a5b5b36b0827d",
       "version_major": 2,
       "version_minor": 0
      },
      "text/plain": [
       "VBox(children=(FloatSlider(value=0.0, description='Goal X:', max=5.0, min=-5.0, step=1.0), FloatSlider(value=0…"
      ]
     },
     "metadata": {},
     "output_type": "display_data"
    },
    {
     "data": {
      "application/vnd.jupyter.widget-view+json": {
       "model_id": "b42b97bbe1d24872b3c9da5d57d4a39d",
       "version_major": 2,
       "version_minor": 0
      },
      "image/png": "[encoded data removed]",
      "text/html": [
       "\n",
       "            <div style=\"display: inline-block;\">\n",
       "                <div class=\"jupyter-widgets widget-label\" style=\"text-align: center;\">\n",
       "                    Figure\n",
       "                </div>\n",
       "                <img src='data:image/png;base64,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' width=1000.0/>\n",
       "            </div>\n",
       "        "
      ],
      "text/plain": [
       "Canvas(toolbar=Toolbar(toolitems=[('Home', 'Reset original view', 'home', 'home'), ('Back', 'Back to previous …"
      ]
     },
     "metadata": {},
     "output_type": "display_data"
    }
   ],
   "source": [
    "%matplotlib widget\n",
    "import rospy\n",
    "import ipywidgets as widgets\n",
    "from IPython.display import display\n",
    "import matplotlib.pyplot as plt\n",
    "from matplotlib.animation import FuncAnimation\n",
    "from assignment_2_2024.msg import RobotState\n",
    "from geometry_msgs.msg import Point\n",
    "from std_msgs.msg import Float32\n",
    "\n",
    "# Initialize ROS node\n",
    "rospy.init_node('jupyter_frontend', anonymous=True)\n",
    "\n",
    "# Global state variables\n",
    "robot_position = (0.0, 0.0)\n",
    "obstacle_distance = 0.0\n",
    "target_position = None\n",
    "reached_count = 0\n",
    "cancelled_count = 0\n",
    "\n",
    "# ROS Publishers\n",
    "goal_pub = rospy.Publisher('/goal_topic', Point, queue_size=10)\n",
    "cancel_pub = rospy.Publisher('/cancel_goal_topic', Float32, queue_size=1)\n",
    "\n",
    "# ROS Subscribers\n",
    "def robot_state_callback(msg):\n",
    "    global robot_position\n",
    "    robot_position = (msg.x, msg.y)\n",
    "\n",
    "def obstacle_callback(msg):\n",
    "    global obstacle_distance\n",
    "    obstacle_distance = msg.data\n",
    "\n",
    "def goal_result_callback(msg):\n",
    "    global reached_count, cancelled_count, target_position\n",
    "    if msg.data == 1.0:\n",
    "        reached_count += 1\n",
    "    else:\n",
    "        cancelled_count += 1\n",
    "    target_position = None\n",
    "\n",
    "rospy.Subscriber('/robot_state', RobotState, robot_state_callback)\n",
    "rospy.Subscriber('/obstacle_distance', Float32, obstacle_callback)\n",
    "rospy.Subscriber('/goal_result', Float32, goal_result_callback)\n",
    "\n",
    "# Widgets\n",
    "goal_x = widgets.FloatSlider(value=0.0, min=-5, max=5, step=1, description=\"Goal X:\")\n",
    "goal_y = widgets.FloatSlider(value=0.0, min=-5, max=5, step=1, description=\"Goal Y:\")\n",
    "send_btn = widgets.Button(description=\"Send Goal\", button_style='success')\n",
    "cancel_btn = widgets.Button(description=\"Cancel Goal\", button_style='danger')\n",
    "status_label = widgets.Label()\n",
    "\n",
    "# Goal handling\n",
    "def send_goal(x, y):\n",
    "    goal_msg = Point(x=x, y=y, z=0.0)\n",
    "    goal_pub.publish(goal_msg)\n",
    "    global target_position\n",
    "    target_position = (x, y)\n",
    "    status_label.value = f\"Goal published: ({x:.1f}, {y:.1f})\"\n",
    "\n",
    "def cancel_goal():\n",
    "    cancel_pub.publish(Float32(1.0))  # Trigger backend cancellation\n",
    "    global target_position\n",
    "    target_position = None\n",
    "    status_label.value = \"Goal canceled (backend notified)\"\n",
    "\n",
    "send_btn.on_click(lambda _: send_goal(goal_x.value, goal_y.value))\n",
    "cancel_btn.on_click(lambda _: cancel_goal())\n",
    "\n",
    "# Display interface\n",
    "display(widgets.VBox([\n",
    "    goal_x, goal_y, send_btn, cancel_btn, status_label\n",
    "]))\n",
    "\n",
    "# Plotting\n",
    "fig, (ax_pos, ax_bar) = plt.subplots(1, 2, figsize=(10, 4))\n",
    "\n",
    "def update_plot(_):\n",
    "    ax_pos.clear()\n",
    "    ax_pos.set_xlim(-5, 5)\n",
    "    ax_pos.set_ylim(-5, 5)\n",
    "    ax_pos.set_title(f\"Robot & Target - Obstacle: {obstacle_distance:.2f}m\")\n",
    "    ax_pos.scatter(*robot_position, c='blue', label='Robot')\n",
    "    if target_position:\n",
    "        ax_pos.scatter(*target_position, c='red', label='Target')\n",
    "    ax_pos.legend()\n",
    "\n",
    "    ax_bar.clear()\n",
    "    ax_bar.set_title(\"Goals Summary\")\n",
    "    ax_bar.bar([\"Reached\", \"Canceled\"], [reached_count, cancelled_count], color=[\"green\", \"gray\"])\n",
    "    ax_bar.set_ylim(0, max(1, reached_count + cancelled_count + 1))\n",
    "\n",
    "_ = plt.show()\n",
    "ani = FuncAnimation(fig, update_plot, interval=500, cache_frame_data=False)\n"
   ]
  },
  {
   "cell_type": "code",
   "execution_count": null,
   "id": "3364ff2c",
   "metadata": {},
   "outputs": [],
   "source": []
  },
  {
   "cell_type": "code",
   "execution_count": 9,
   "id": "9ff6c956",
   "metadata": {},
   "outputs": [],
   "source": [
    "import sys\n",
    "sys.path.append('/home/ts/2/devel/lib/python3/dist-packages')\n"
   ]
  },
  {
   "cell_type": "code",
   "execution_count": null,
   "id": "ba5bc6e1",
   "metadata": {},
   "outputs": [],
   "source": []
  },
  {
   "cell_type": "code",
   "execution_count": null,
   "id": "646410ba",
   "metadata": {},
   "outputs": [],
   "source": []
  },
  {
   "cell_type": "code",
   "execution_count": null,
   "id": "e51b0f03",
   "metadata": {},
   "outputs": [],
   "source": []
  }
 ],
 "metadata": {
  "kernelspec": {
   "display_name": "Python 3 (ipykernel)",
   "language": "python",
   "name": "python3"
  },
  "language_info": {
   "codemirror_mode": {
    "name": "ipython",
    "version": 3
   },
   "file_extension": ".py",
   "mimetype": "text/x-python",
   "name": "python",
   "nbconvert_exporter": "python",
   "pygments_lexer": "ipython3",
   "version": "3.8.10"
  }
 },
 "nbformat": 4,
 "nbformat_minor": 5
}
